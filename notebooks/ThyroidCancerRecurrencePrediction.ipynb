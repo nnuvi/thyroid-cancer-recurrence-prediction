{
 "cells": [
  {
   "cell_type": "code",
   "execution_count": null,
   "id": "3374d771-1187-4f39-874b-c063d0999f12",
   "metadata": {},
   "outputs": [
    {
     "name": "stdout",
     "output_type": "stream",
     "text": [
      "Current Conda Environment: ME\n"
     ]
    }
   ],
   "source": [
    "import os\n",
    "import sys\n",
    "\n",
    "# Get the active Conda environment name\n",
    "conda_env = os.getenv(\"CONDA_DEFAULT_ENV\")\n",
    "\n",
    "print(f\"Current Conda Environment: {conda_env}\")\n"
   ]
  },
  {
   "cell_type": "code",
   "execution_count": null,
   "id": "59c09f11",
   "metadata": {},
   "outputs": [],
   "source": []
  }
 ],
 "metadata": {
  "kernelspec": {
   "display_name": "ME",
   "language": "python",
   "name": "me_ipk"
  },
  "language_info": {
   "codemirror_mode": {
    "name": "ipython",
    "version": 3
   },
   "file_extension": ".py",
   "mimetype": "text/x-python",
   "name": "python",
   "nbconvert_exporter": "python",
   "pygments_lexer": "ipython3",
   "version": "3.12.8"
  },
  "widgets": {
   "application/vnd.jupyter.widget-state+json": {
    "state": {},
    "version_major": 2,
    "version_minor": 0
   }
  }
 },
 "nbformat": 4,
 "nbformat_minor": 5
}
